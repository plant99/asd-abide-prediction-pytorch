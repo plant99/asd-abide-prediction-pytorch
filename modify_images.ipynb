{
 "cells": [
  {
   "cell_type": "code",
   "execution_count": 2,
   "metadata": {},
   "outputs": [],
   "source": [
    "d_r = '/home/plant99/Documents/code/pro_per/a-t-b/data/nii-data/Outputs/cpac/filt_global'"
   ]
  },
  {
   "cell_type": "code",
   "execution_count": 3,
   "metadata": {},
   "outputs": [
    {
     "name": "stderr",
     "output_type": "stream",
     "text": [
      "/home/plant99/.local/lib/python3.6/site-packages/dicom/__init__.py:53: UserWarning: \n",
      "This code is using an older version of pydicom, which is no longer \n",
      "maintained as of Jan 2017.  You can access the new pydicom features and API \n",
      "by installing `pydicom` from PyPI.\n",
      "See 'Transitioning to pydicom 1.x' section at pydicom.readthedocs.org \n",
      "for more information.\n",
      "\n",
      "  warnings.warn(msg)\n"
     ]
    }
   ],
   "source": [
    " from nilearn import plotting"
   ]
  },
  {
   "cell_type": "code",
   "execution_count": 4,
   "metadata": {},
   "outputs": [],
   "source": [
    "import os"
   ]
  },
  {
   "cell_type": "code",
   "execution_count": 8,
   "metadata": {},
   "outputs": [
    {
     "name": "stdout",
     "output_type": "stream",
     "text": [
      "1\n",
      "/home/plant99/Documents/code/pro_per/a-t-b/data/nii-data/Outputs/cpac/filt_global/png-i/Pitt_0050042_alff.nii.jpg\n"
     ]
    }
   ],
   "source": [
    "count = 0\n",
    "for i in os.listdir(os.path.join(d_r,'alff_extracted')):\n",
    "    count += 1\n",
    "    print(count)\n",
    "    fname = os.path.join(d_r, 'png-i/')+i+'.jpg'\n",
    "    print(fname)\n",
    "    break\n",
    "#     try:\n",
    "    if os.path.isfile(fname):\n",
    "        print(fname)\n",
    "        continue\n",
    "    else:\n",
    "#         print(\"asd\")\n",
    "        display = plotting.plot_glass_brain(os.path.join(d_r , 'alff_extracted' , i), display_mode='z', threshold=1e-6 ) \n",
    "        display.savefig(fname)\n",
    "        print(fname)\n",
    "        break\n",
    "#     except:\n",
    "#         print(\"asd\")\n",
    "#         display = plotting.plot_glass_brain(os.path.join(d_r , 'alff_extracted' , i), display_mode='z', threshold=1e-6 ) \n",
    "#         display.savefig(fname)\n",
    "        \n",
    "        \n",
    "#     display.close()"
   ]
  },
  {
   "cell_type": "code",
   "execution_count": 6,
   "metadata": {},
   "outputs": [
    {
     "name": "stdout",
     "output_type": "stream",
     "text": [
      "1036\n"
     ]
    }
   ],
   "source": [
    "print(count)"
   ]
  },
  {
   "cell_type": "code",
   "execution_count": null,
   "metadata": {},
   "outputs": [],
   "source": []
  }
 ],
 "metadata": {
  "kernelspec": {
   "display_name": "Python 3",
   "language": "python",
   "name": "python3"
  },
  "language_info": {
   "codemirror_mode": {
    "name": "ipython",
    "version": 3
   },
   "file_extension": ".py",
   "mimetype": "text/x-python",
   "name": "python",
   "nbconvert_exporter": "python",
   "pygments_lexer": "ipython3",
   "version": "3.6.5"
  }
 },
 "nbformat": 4,
 "nbformat_minor": 2
}
