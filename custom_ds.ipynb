{
 "cells": [
  {
   "cell_type": "code",
   "execution_count": 23,
   "metadata": {},
   "outputs": [],
   "source": [
    "from __future__ import print_function, division\n",
    "import os\n",
    "import torch\n",
    "import pandas as pd\n",
    "from skimage import io, transform\n",
    "import numpy as np\n",
    "import matplotlib.pyplot as plt\n",
    "from torch.utils.data import Dataset, DataLoader\n",
    "from torchvision import transforms, utils\n",
    "\n",
    "# Ignore warnings\n",
    "import warnings\n",
    "warnings.filterwarnings(\"ignore\")\n",
    "\n",
    "plt.ion()   # interactive mode\n",
    "get_label = {\n",
    "    'articulated_truck': 0,\n",
    "    'background': 1,\n",
    "    'bicycle': 2,\n",
    "    'bus': 3,\n",
    "    'car': 4,\n",
    "    'motorcycle': 5,\n",
    "    'non-motorized_vehicle': 6,\n",
    "    'pedestrian': 7,\n",
    "    'pickup_truck': 8,\n",
    "    'single_unit_truck': 9,\n",
    "    'work_van': 10\n",
    "}"
   ]
  },
  {
   "cell_type": "code",
   "execution_count": 26,
   "metadata": {},
   "outputs": [],
   "source": [
    "# for i, name in enumerate(os.listdir('./data/train')):\n",
    "#     for j in os.listdir('./data/train/'+ name):\n",
    "#         self.image_arr.append('./data/train/'+ name+'/'+j)\n",
    "#         self.label_arr.append(i)\n",
    "#         self.operation_arr.append(False)\n",
    "# #                 print('./data/train/'+ i+'/'+j, str(i), False)\n",
    "#         break\n",
    "#     break"
   ]
  },
  {
   "cell_type": "code",
   "execution_count": 78,
   "metadata": {},
   "outputs": [],
   "source": [
    "class Rescale(object):\n",
    "    def __init__(self, output_size):\n",
    "        assert isinstance(output_size, (int, tuple))\n",
    "        self.output_size = output_size\n",
    "    \n",
    "    def __call__(self, sample):\n",
    "        image = sample['image']\n",
    "        h, w = image.shape[:2]\n",
    "        \n",
    "        if isinstance(self.output_size, int):\n",
    "            if h > w:\n",
    "                new_h, new_w = self.output_size * h / w, self.output_size\n",
    "            else:\n",
    "                new_h, new_w = self.output_size, self.output_size * w / h\n",
    "        else:\n",
    "            new_h, new_w = self.output_size\n",
    "        \n",
    "        new_h, new_w = int(new_h), int(new_w)\n",
    "        \n",
    "        img = transform.resize(image, (new_h, new_w))\n",
    "        return {'image': img, 'label': sample['label']}\n",
    "class ToTensor(object):\n",
    "\n",
    "    def __call__(self, sample):\n",
    "        image = sample['image']\n",
    "\n",
    "        # swap color axis because\n",
    "        # numpy image: H x W x C\n",
    "        # torch image: C X H X W\n",
    "        image = image.transpose((2, 0, 1))\n",
    "        return {'image': torch.from_numpy(image), 'label': sample['label']}"
   ]
  },
  {
   "cell_type": "code",
   "execution_count": null,
   "metadata": {},
   "outputs": [],
   "source": []
  },
  {
   "cell_type": "code",
   "execution_count": 95,
   "metadata": {},
   "outputs": [
    {
     "name": "stdout",
     "output_type": "stream",
     "text": [
      "00260164 non-motorized_vehicle\n",
      "0 torch.Size([3, 100, 100]) 6\n",
      "00400458 non-motorized_vehicle\n",
      "1 torch.Size([3, 100, 100]) 6\n",
      "00457677 non-motorized_vehicle\n",
      "2 torch.Size([3, 100, 100]) 6\n",
      "00209377 non-motorized_vehicle\n",
      "3 torch.Size([3, 100, 100]) 6\n"
     ]
    },
    {
     "data": {
      "text/plain": [
       "<Figure size 432x288 with 0 Axes>"
      ]
     },
     "metadata": {},
     "output_type": "display_data"
    }
   ],
   "source": [
    "class DS(Dataset):\n",
    "    def __init__(self, csv_file, root_dir, transform = None):\n",
    "        self.transform = transform\n",
    "        self.csv_ds = pd.read_csv(csv_file, dtype='str')\n",
    "        self.root_dir = root_dir\n",
    "    \n",
    "    def __len__(self):\n",
    "        return len(self.csv_ds)\n",
    "    \n",
    "    def __getitem__(self, idx):\n",
    "        print(self.csv_ds.iloc[idx][0], self.csv_ds.iloc[idx][1])\n",
    "        img_name = str(self.csv_ds.iloc[idx][0])\n",
    "        img_path = os.path.join(self.root_dir, 'train',str(self.csv_ds.iloc[idx][1]), str(self.csv_ds.iloc[idx][0]) + '.jpg')\n",
    "        image = io.imread(img_path)\n",
    "        label = get_label[self.csv_ds.iloc[idx][1]]\n",
    "        sample = {'image': image, 'label': label}\n",
    "        \n",
    "        if self.transform:\n",
    "            sample = self.transform(sample)\n",
    "        return sample\n",
    "    \n",
    "tds = DS(csv_file='./data/gt_train.csv',\n",
    "                                    root_dir='./data/',\n",
    "                                    transform = transforms.Compose([Rescale((100, 100)), ToTensor()]) )\n",
    "\n",
    "fig = plt.figure()\n",
    "scale = Rescale((100, 100))\n",
    "toTensor = ToTensor()\n",
    "\n",
    "for i in range(len(tds)):\n",
    "    \n",
    "    sample = tds[i]\n",
    "    print(i, sample['image'].shape, sample['label'])\n",
    "    np_i = sample['image'].numpy()\n",
    "#     plt.imshow(np.transpose(np_i, (1, 2, 0)), interpolation='nearest')\n",
    "#     tensor_image = toTensor(sample)['image']\n",
    "#     scaled_image = scale(sample)['image']\n",
    "#     io.imshow(scaled_image)\n",
    "#     ax = plt.subplot(1, 4, i + 1)\n",
    "#     plt.tight_layout()\n",
    "#     ax.set_title('Sample #{}'.format(i))\n",
    "#     ax.axis('off')\n",
    "# #     show_landmarks(**sample)\n",
    "\n",
    "    if i == 3:\n",
    "        plt.show()\n",
    "        break"
   ]
  },
  {
   "cell_type": "code",
   "execution_count": 81,
   "metadata": {},
   "outputs": [
    {
     "ename": "NameError",
     "evalue": "name 'Transform' is not defined",
     "output_type": "error",
     "traceback": [
      "\u001b[0;31m---------------------------------------------------------------------------\u001b[0m",
      "\u001b[0;31mNameError\u001b[0m                                 Traceback (most recent call last)",
      "\u001b[0;32m<ipython-input-81-ec3e651a2257>\u001b[0m in \u001b[0;36m<module>\u001b[0;34m()\u001b[0m\n\u001b[0;32m----> 1\u001b[0;31m \u001b[0mtsfm\u001b[0m \u001b[0;34m=\u001b[0m \u001b[0mTransform\u001b[0m\u001b[0;34m(\u001b[0m\u001b[0mparams\u001b[0m\u001b[0;34m)\u001b[0m\u001b[0;34m\u001b[0m\u001b[0m\n\u001b[0m\u001b[1;32m      2\u001b[0m \u001b[0mtransformed_sample\u001b[0m \u001b[0;34m=\u001b[0m \u001b[0mtsfm\u001b[0m\u001b[0;34m(\u001b[0m\u001b[0msample\u001b[0m\u001b[0;34m)\u001b[0m\u001b[0;34m\u001b[0m\u001b[0m\n",
      "\u001b[0;31mNameError\u001b[0m: name 'Transform' is not defined"
     ]
    }
   ],
   "source": []
  },
  {
   "cell_type": "code",
   "execution_count": null,
   "metadata": {},
   "outputs": [],
   "source": []
  }
 ],
 "metadata": {
  "kernelspec": {
   "display_name": "Python 3",
   "language": "python",
   "name": "python3"
  },
  "language_info": {
   "codemirror_mode": {
    "name": "ipython",
    "version": 3
   },
   "file_extension": ".py",
   "mimetype": "text/x-python",
   "name": "python",
   "nbconvert_exporter": "python",
   "pygments_lexer": "ipython3",
   "version": "3.6.5"
  }
 },
 "nbformat": 4,
 "nbformat_minor": 2
}
