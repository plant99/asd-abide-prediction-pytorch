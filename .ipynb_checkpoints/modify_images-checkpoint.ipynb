{
 "cells": [
  {
   "cell_type": "code",
   "execution_count": 3,
   "metadata": {},
   "outputs": [],
   "source": [
    "d_r = '/home/plant99/Documents/code/pro_per/a-t-b/data/nii-data/Outputs/cpac/filt_global'"
   ]
  },
  {
   "cell_type": "code",
   "execution_count": 4,
   "metadata": {},
   "outputs": [
    {
     "name": "stderr",
     "output_type": "stream",
     "text": [
      "/home/plant99/.local/lib/python3.6/site-packages/dicom/__init__.py:53: UserWarning: \n",
      "This code is using an older version of pydicom, which is no longer \n",
      "maintained as of Jan 2017.  You can access the new pydicom features and API \n",
      "by installing `pydicom` from PyPI.\n",
      "See 'Transitioning to pydicom 1.x' section at pydicom.readthedocs.org \n",
      "for more information.\n",
      "\n",
      "  warnings.warn(msg)\n"
     ]
    }
   ],
   "source": [
    " from nilearn import plotting"
   ]
  },
  {
   "cell_type": "code",
   "execution_count": 5,
   "metadata": {},
   "outputs": [],
   "source": [
    "import os"
   ]
  },
  {
   "cell_type": "code",
   "execution_count": 13,
   "metadata": {},
   "outputs": [
    {
     "ename": "SyntaxError",
     "evalue": "invalid syntax (<ipython-input-13-7d810bf3608c>, line 17)",
     "output_type": "error",
     "traceback": [
      "\u001b[0;36m  File \u001b[0;32m\"<ipython-input-13-7d810bf3608c>\"\u001b[0;36m, line \u001b[0;32m17\u001b[0m\n\u001b[0;31m    count += 1\u001b[0m\n\u001b[0m        ^\u001b[0m\n\u001b[0;31mSyntaxError\u001b[0m\u001b[0;31m:\u001b[0m invalid syntax\n"
     ]
    }
   ],
   "source": [
    "count = 0\n",
    "for i in os.listdir(os.path.join(d_r,'alff_extracted')):\n",
    "    fname = os.path.join(d_r, 'png-i/')+i+'.jpg'\n",
    "#     try:\n",
    "    if os.path.isfile(fname):\n",
    "        continue\n",
    "    else:\n",
    "        print(\"asd\")\n",
    "        display = plotting.plot_glass_brain(os.path.join(d_r , 'alff_extracted' , i), display_mode='z', threshold=1e-6 ) \n",
    "        display.savefig(fname)\n",
    "#     except:\n",
    "#         print(\"asd\")\n",
    "#         display = plotting.plot_glass_brain(os.path.join(d_r , 'alff_extracted' , i), display_mode='z', threshold=1e-6 ) \n",
    "#         display.savefig(fname)\n",
    "        \n",
    "        \n",
    "    count += 1\n",
    "#     display.close()"
   ]
  },
  {
   "cell_type": "code",
   "execution_count": 12,
   "metadata": {},
   "outputs": [
    {
     "name": "stdout",
     "output_type": "stream",
     "text": [
      "429\n"
     ]
    }
   ],
   "source": [
    "print(count)"
   ]
  },
  {
   "cell_type": "code",
   "execution_count": null,
   "metadata": {},
   "outputs": [],
   "source": []
  }
 ],
 "metadata": {
  "kernelspec": {
   "display_name": "Python 3",
   "language": "python",
   "name": "python3"
  },
  "language_info": {
   "codemirror_mode": {
    "name": "ipython",
    "version": 3
   },
   "file_extension": ".py",
   "mimetype": "text/x-python",
   "name": "python",
   "nbconvert_exporter": "python",
   "pygments_lexer": "ipython3",
   "version": "3.6.5"
  }
 },
 "nbformat": 4,
 "nbformat_minor": 2
}
