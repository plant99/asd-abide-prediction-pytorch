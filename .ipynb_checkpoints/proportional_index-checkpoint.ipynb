{
 "cells": [
  {
   "cell_type": "code",
   "execution_count": 39,
   "metadata": {},
   "outputs": [],
   "source": [
    "import pandas as pd\n",
    "import numpy as np\n",
    "d_f = '/home/plant99/Documents/code/pro_per/a-t-b/data/nii-data/Outputs/cpac/filt_global/'\n"
   ]
  },
  {
   "cell_type": "code",
   "execution_count": 6,
   "metadata": {},
   "outputs": [],
   "source": [
    "x = pd.read_csv('./data/data.csv',  dtype='str')"
   ]
  },
  {
   "cell_type": "code",
   "execution_count": 44,
   "metadata": {},
   "outputs": [
    {
     "name": "stdout",
     "output_type": "stream",
     "text": [
      "['1' '1' '1' ... '1' '1' '1']\n"
     ]
    }
   ],
   "source": [
    "img_arr = np.asarray(x.iloc[:, 6])\n",
    "        # Second column is the labels\n",
    "label_arr = np.asarray(x.iloc[:, 7])\n",
    "print(label_arr)"
   ]
  },
  {
   "cell_type": "code",
   "execution_count": 45,
   "metadata": {},
   "outputs": [
    {
     "data": {
      "text/plain": [
       "numpy.ndarray"
      ]
     },
     "execution_count": 45,
     "metadata": {},
     "output_type": "execute_result"
    }
   ],
   "source": [
    "type(label_arr)"
   ]
  },
  {
   "cell_type": "code",
   "execution_count": 46,
   "metadata": {},
   "outputs": [],
   "source": [
    "ix_1 = []\n",
    "ix_2 = []\n",
    "for index, label in enumerate(label_arr):\n",
    "    if label is '1':\n",
    "        ix_1.append(index)\n",
    "    else:\n",
    "        ix_2.append(index)\n",
    "\n",
    "# print(ix_1, ix_2)\n",
    "        "
   ]
  },
  {
   "cell_type": "code",
   "execution_count": 47,
   "metadata": {},
   "outputs": [],
   "source": [
    "np.random.shuffle(ix_1)\n",
    "np.random.shuffle(ix_2)"
   ]
  },
  {
   "cell_type": "code",
   "execution_count": 48,
   "metadata": {},
   "outputs": [],
   "source": [
    "tr_i_1 = ix_1[0:400]\n",
    "ts_i_1 = ix_1[400:]\n",
    "\n",
    "tr_i_2 = ix_2[0:400]\n",
    "ts_i_2 = ix_2[400:]"
   ]
  },
  {
   "cell_type": "code",
   "execution_count": 49,
   "metadata": {},
   "outputs": [],
   "source": [
    "# ts_i_1"
   ]
  },
  {
   "cell_type": "code",
   "execution_count": 50,
   "metadata": {},
   "outputs": [],
   "source": [
    "# tr_i_1"
   ]
  },
  {
   "cell_type": "code",
   "execution_count": 51,
   "metadata": {},
   "outputs": [],
   "source": [
    "from shutil import copyfile"
   ]
  },
  {
   "cell_type": "code",
   "execution_count": 52,
   "metadata": {},
   "outputs": [
    {
     "name": "stdout",
     "output_type": "stream",
     "text": [
      "custom_ds.ipynb  fmri-2.ipynb  modify_images.ipynb\t temp\r\n",
      "data\t\t fmri.ipynb    proportional_index.ipynb  test_net.ipynb\r\n"
     ]
    }
   ],
   "source": [
    "!ls"
   ]
  },
  {
   "cell_type": "code",
   "execution_count": 53,
   "metadata": {},
   "outputs": [
    {
     "data": {
      "text/plain": [
       "'./custom_ds1.ipynb'"
      ]
     },
     "execution_count": 53,
     "metadata": {},
     "output_type": "execute_result"
    }
   ],
   "source": [
    "copyfile('./custom_ds.ipynb', './custom_ds1.ipynb')"
   ]
  },
  {
   "cell_type": "code",
   "execution_count": 54,
   "metadata": {},
   "outputs": [
    {
     "name": "stdout",
     "output_type": "stream",
     "text": [
      "custom_ds1.ipynb  fmri-2.ipynb\t       proportional_index.ipynb\r\n",
      "custom_ds.ipynb   fmri.ipynb\t       temp\r\n",
      "data\t\t  modify_images.ipynb  test_net.ipynb\r\n"
     ]
    }
   ],
   "source": [
    "!ls"
   ]
  },
  {
   "cell_type": "code",
   "execution_count": 55,
   "metadata": {},
   "outputs": [],
   "source": [
    "!rm  custom_ds1.ipynb"
   ]
  },
  {
   "cell_type": "code",
   "execution_count": 56,
   "metadata": {},
   "outputs": [
    {
     "ename": "FileNotFoundError",
     "evalue": "[Errno 2] No such file or directory: '/home/plant99/Documents/code/pro_per/a-t-b/data/nii-data/Outputs/cpac/filt_global/png-i/UCLA_2_0051296'",
     "output_type": "error",
     "traceback": [
      "\u001b[0;31m---------------------------------------------------------------------------\u001b[0m",
      "\u001b[0;31mFileNotFoundError\u001b[0m                         Traceback (most recent call last)",
      "\u001b[0;32m<ipython-input-56-ba8160d2ca53>\u001b[0m in \u001b[0;36m<module>\u001b[0;34m()\u001b[0m\n\u001b[1;32m      2\u001b[0m     \u001b[0mimage_loc\u001b[0m \u001b[0;34m=\u001b[0m \u001b[0md_f\u001b[0m \u001b[0;34m+\u001b[0m \u001b[0;34m'png-i/'\u001b[0m \u001b[0;34m+\u001b[0m \u001b[0mimg_arr\u001b[0m\u001b[0;34m[\u001b[0m\u001b[0mi\u001b[0m\u001b[0;34m]\u001b[0m\u001b[0;34m\u001b[0m\u001b[0m\n\u001b[1;32m      3\u001b[0m     \u001b[0mnew_img_loc\u001b[0m \u001b[0;34m=\u001b[0m \u001b[0md_f\u001b[0m \u001b[0;34m+\u001b[0m \u001b[0;34m'train/'\u001b[0m \u001b[0;34m+\u001b[0m \u001b[0mimg_arr\u001b[0m\u001b[0;34m[\u001b[0m\u001b[0mi\u001b[0m\u001b[0;34m]\u001b[0m\u001b[0;34m\u001b[0m\u001b[0m\n\u001b[0;32m----> 4\u001b[0;31m     \u001b[0mcopyfile\u001b[0m\u001b[0;34m(\u001b[0m\u001b[0mimage_loc\u001b[0m\u001b[0;34m,\u001b[0m \u001b[0mnew_img_loc\u001b[0m\u001b[0;34m)\u001b[0m\u001b[0;34m\u001b[0m\u001b[0m\n\u001b[0m\u001b[1;32m      5\u001b[0m \u001b[0;34m\u001b[0m\u001b[0m\n\u001b[1;32m      6\u001b[0m \u001b[0;34m\u001b[0m\u001b[0m\n",
      "\u001b[0;32m~/anaconda3/lib/python3.6/shutil.py\u001b[0m in \u001b[0;36mcopyfile\u001b[0;34m(src, dst, follow_symlinks)\u001b[0m\n\u001b[1;32m    118\u001b[0m         \u001b[0mos\u001b[0m\u001b[0;34m.\u001b[0m\u001b[0msymlink\u001b[0m\u001b[0;34m(\u001b[0m\u001b[0mos\u001b[0m\u001b[0;34m.\u001b[0m\u001b[0mreadlink\u001b[0m\u001b[0;34m(\u001b[0m\u001b[0msrc\u001b[0m\u001b[0;34m)\u001b[0m\u001b[0;34m,\u001b[0m \u001b[0mdst\u001b[0m\u001b[0;34m)\u001b[0m\u001b[0;34m\u001b[0m\u001b[0m\n\u001b[1;32m    119\u001b[0m     \u001b[0;32melse\u001b[0m\u001b[0;34m:\u001b[0m\u001b[0;34m\u001b[0m\u001b[0m\n\u001b[0;32m--> 120\u001b[0;31m         \u001b[0;32mwith\u001b[0m \u001b[0mopen\u001b[0m\u001b[0;34m(\u001b[0m\u001b[0msrc\u001b[0m\u001b[0;34m,\u001b[0m \u001b[0;34m'rb'\u001b[0m\u001b[0;34m)\u001b[0m \u001b[0;32mas\u001b[0m \u001b[0mfsrc\u001b[0m\u001b[0;34m:\u001b[0m\u001b[0;34m\u001b[0m\u001b[0m\n\u001b[0m\u001b[1;32m    121\u001b[0m             \u001b[0;32mwith\u001b[0m \u001b[0mopen\u001b[0m\u001b[0;34m(\u001b[0m\u001b[0mdst\u001b[0m\u001b[0;34m,\u001b[0m \u001b[0;34m'wb'\u001b[0m\u001b[0;34m)\u001b[0m \u001b[0;32mas\u001b[0m \u001b[0mfdst\u001b[0m\u001b[0;34m:\u001b[0m\u001b[0;34m\u001b[0m\u001b[0m\n\u001b[1;32m    122\u001b[0m                 \u001b[0mcopyfileobj\u001b[0m\u001b[0;34m(\u001b[0m\u001b[0mfsrc\u001b[0m\u001b[0;34m,\u001b[0m \u001b[0mfdst\u001b[0m\u001b[0;34m)\u001b[0m\u001b[0;34m\u001b[0m\u001b[0m\n",
      "\u001b[0;31mFileNotFoundError\u001b[0m: [Errno 2] No such file or directory: '/home/plant99/Documents/code/pro_per/a-t-b/data/nii-data/Outputs/cpac/filt_global/png-i/UCLA_2_0051296'"
     ]
    }
   ],
   "source": [
    "for i in tr_i_1:\n",
    "    image_loc = d_f + 'png-i/' + img_arr[i] + '_alff.nii.jpg'\n",
    "    new_img_loc = d_f + 'train/' + img_arr[i] + '_alff.nii.jpg'\n",
    "    copyfile(image_loc, new_img_loc)\n",
    "\n",
    "\n",
    "for i in tr_i_2:\n",
    "    image_loc = d_f + 'png-i/' + img_arr[i] + '_alff.nii.jpg'\n",
    "    new_img_loc = d_f + 'train/' + img_arr[i] + '_alff.nii.jpg'\n",
    "    copyfile(image_loc, new_img_loc)\n",
    "    \n",
    "    \n",
    "    \n",
    "for i in ts_i_1:\n",
    "    image_loc = d_f + 'png-i/' + img_arr[i] + '_alff.nii.jpg'\n",
    "    new_img_loc = d_f + 'test/' + img_arr[i] + '_alff.nii.jpg'\n",
    "    copyfile(image_loc, new_img_loc)\n",
    "\n",
    "\n",
    "for i in ts_i_2:\n",
    "    image_loc = d_f + 'png-i/' + img_arr[i] + '_alff.nii.jpg'\n",
    "    new_img_loc = d_f + 'test/' + img_arr[i] + '_alff.nii.jpg'\n",
    "    copyfile(image_loc, new_img_loc)"
   ]
  },
  {
   "cell_type": "code",
   "execution_count": null,
   "metadata": {},
   "outputs": [],
   "source": []
  }
 ],
 "metadata": {
  "kernelspec": {
   "display_name": "Python 3",
   "language": "python",
   "name": "python3"
  },
  "language_info": {
   "codemirror_mode": {
    "name": "ipython",
    "version": 3
   },
   "file_extension": ".py",
   "mimetype": "text/x-python",
   "name": "python",
   "nbconvert_exporter": "python",
   "pygments_lexer": "ipython3",
   "version": "3.6.5"
  }
 },
 "nbformat": 4,
 "nbformat_minor": 2
}
